{
  "nbformat": 4,
  "nbformat_minor": 0,
  "metadata": {
    "colab": {
      "provenance": []
    },
    "kernelspec": {
      "name": "python3",
      "display_name": "Python 3"
    },
    "language_info": {
      "name": "python"
    }
  },
  "cells": [
    {
      "cell_type": "markdown",
      "source": [
        "### Operadores Aritméticos"
      ],
      "metadata": {
        "id": "JQvxJfT-EIrC"
      }
    },
    {
      "cell_type": "code",
      "execution_count": null,
      "metadata": {
        "colab": {
          "base_uri": "https://localhost:8080/"
        },
        "id": "2KWJOl_2AJBl",
        "outputId": "c453c1bf-49ff-4865-a811-f473c56a26c5"
      },
      "outputs": [
        {
          "output_type": "execute_result",
          "data": {
            "text/plain": [
              "32"
            ]
          },
          "metadata": {},
          "execution_count": 40
        }
      ],
      "source": [
        "# Adição\n",
        "30 + 2"
      ]
    },
    {
      "cell_type": "code",
      "source": [
        "# Subtração\n",
        "30 - 2"
      ],
      "metadata": {
        "id": "YZKRcCHuBvKH",
        "colab": {
          "base_uri": "https://localhost:8080/"
        },
        "outputId": "0e4b878a-1085-451d-92a9-faa9d48cd790"
      },
      "execution_count": null,
      "outputs": [
        {
          "output_type": "execute_result",
          "data": {
            "text/plain": [
              "28"
            ]
          },
          "metadata": {},
          "execution_count": 41
        }
      ]
    },
    {
      "cell_type": "code",
      "source": [
        "# Multiplicação\n",
        "30 * 2"
      ],
      "metadata": {
        "colab": {
          "base_uri": "https://localhost:8080/"
        },
        "id": "sFM-kS_9Bvwl",
        "outputId": "3e18823f-d830-4dc2-ccce-2cadb4398e32"
      },
      "execution_count": null,
      "outputs": [
        {
          "output_type": "execute_result",
          "data": {
            "text/plain": [
              "60"
            ]
          },
          "metadata": {},
          "execution_count": 42
        }
      ]
    },
    {
      "cell_type": "code",
      "source": [
        "# Divisão\n",
        "30 / 2"
      ],
      "metadata": {
        "colab": {
          "base_uri": "https://localhost:8080/"
        },
        "id": "ZdbC5eb7E49n",
        "outputId": "a16b4043-9030-4b9d-d3ec-8961485729eb"
      },
      "execution_count": null,
      "outputs": [
        {
          "output_type": "execute_result",
          "data": {
            "text/plain": [
              "15.0"
            ]
          },
          "metadata": {},
          "execution_count": 43
        }
      ]
    },
    {
      "cell_type": "code",
      "source": [
        "# Divisão inteira\n",
        "30 // 2"
      ],
      "metadata": {
        "colab": {
          "base_uri": "https://localhost:8080/"
        },
        "id": "ludBsQg3FACh",
        "outputId": "78c44a31-ec70-4bbf-a768-8bb87ba4406a"
      },
      "execution_count": null,
      "outputs": [
        {
          "output_type": "execute_result",
          "data": {
            "text/plain": [
              "15"
            ]
          },
          "metadata": {},
          "execution_count": 44
        }
      ]
    },
    {
      "cell_type": "code",
      "source": [
        "# Resto da divisão\n",
        "30 % 2"
      ],
      "metadata": {
        "colab": {
          "base_uri": "https://localhost:8080/"
        },
        "id": "F6u0kL1vFMCV",
        "outputId": "d20ebbea-cada-431c-bd99-7055b1a70a2b"
      },
      "execution_count": null,
      "outputs": [
        {
          "output_type": "execute_result",
          "data": {
            "text/plain": [
              "0"
            ]
          },
          "metadata": {},
          "execution_count": 45
        }
      ]
    },
    {
      "cell_type": "code",
      "source": [
        "# Potenciação\n",
        "30 ** 2"
      ],
      "metadata": {
        "colab": {
          "base_uri": "https://localhost:8080/"
        },
        "id": "MI8ej5n5FQc8",
        "outputId": "66eb3048-1f9c-41f2-b0eb-136200815214"
      },
      "execution_count": null,
      "outputs": [
        {
          "output_type": "execute_result",
          "data": {
            "text/plain": [
              "900"
            ]
          },
          "metadata": {},
          "execution_count": 46
        }
      ]
    },
    {
      "cell_type": "markdown",
      "source": [
        "### Operadores Relacionais"
      ],
      "metadata": {
        "id": "75r4ETSvFWKU"
      }
    },
    {
      "cell_type": "code",
      "source": [
        "# Menor\n",
        "30 < 2"
      ],
      "metadata": {
        "colab": {
          "base_uri": "https://localhost:8080/"
        },
        "id": "rZCIyKVsFVBh",
        "outputId": "9be1bdae-7e54-4aaf-f6a1-fdae364811f1"
      },
      "execution_count": null,
      "outputs": [
        {
          "output_type": "execute_result",
          "data": {
            "text/plain": [
              "False"
            ]
          },
          "metadata": {},
          "execution_count": 9
        }
      ]
    },
    {
      "cell_type": "code",
      "source": [
        "# Menor ou igual\n",
        "30 <= 2"
      ],
      "metadata": {
        "colab": {
          "base_uri": "https://localhost:8080/"
        },
        "id": "w-08G-STFeOm",
        "outputId": "d4d4c5d9-53eb-4fb7-e53b-b307a2943642"
      },
      "execution_count": null,
      "outputs": [
        {
          "output_type": "execute_result",
          "data": {
            "text/plain": [
              "False"
            ]
          },
          "metadata": {},
          "execution_count": 10
        }
      ]
    },
    {
      "cell_type": "code",
      "source": [
        "# Maior\n",
        "30 > 2"
      ],
      "metadata": {
        "colab": {
          "base_uri": "https://localhost:8080/"
        },
        "id": "_MAN5ZMjFiLh",
        "outputId": "cf40b3ef-5687-46c5-cdf0-98decc8745d2"
      },
      "execution_count": null,
      "outputs": [
        {
          "output_type": "execute_result",
          "data": {
            "text/plain": [
              "True"
            ]
          },
          "metadata": {},
          "execution_count": 11
        }
      ]
    },
    {
      "cell_type": "code",
      "source": [
        "# Maior ou igual\n",
        "30 >= 2"
      ],
      "metadata": {
        "colab": {
          "base_uri": "https://localhost:8080/"
        },
        "id": "AObuwo52FkTS",
        "outputId": "3af823f3-3272-413f-acc0-11f3fe76ac72"
      },
      "execution_count": null,
      "outputs": [
        {
          "output_type": "execute_result",
          "data": {
            "text/plain": [
              "True"
            ]
          },
          "metadata": {},
          "execution_count": 12
        }
      ]
    },
    {
      "cell_type": "code",
      "source": [
        "# Igual\n",
        "30 == 2"
      ],
      "metadata": {
        "colab": {
          "base_uri": "https://localhost:8080/"
        },
        "id": "WgFgSm2vFmwH",
        "outputId": "dcd41d2c-820d-4641-fa5c-e90d5d6d171e"
      },
      "execution_count": null,
      "outputs": [
        {
          "output_type": "execute_result",
          "data": {
            "text/plain": [
              "False"
            ]
          },
          "metadata": {},
          "execution_count": 13
        }
      ]
    },
    {
      "cell_type": "code",
      "source": [
        "# Diferente\n",
        "30 != 2"
      ],
      "metadata": {
        "colab": {
          "base_uri": "https://localhost:8080/"
        },
        "id": "UdPW0_ZaFp6q",
        "outputId": "c47fd0c1-72bf-46f3-c825-2f9ee381d914"
      },
      "execution_count": null,
      "outputs": [
        {
          "output_type": "execute_result",
          "data": {
            "text/plain": [
              "True"
            ]
          },
          "metadata": {},
          "execution_count": 14
        }
      ]
    },
    {
      "cell_type": "markdown",
      "source": [
        "### Operadores Lógicos"
      ],
      "metadata": {
        "id": "NxQoNs-HFu-l"
      }
    },
    {
      "cell_type": "code",
      "source": [
        "# And\n",
        "# Apenas é verdadeiro se todas as condições forem verdadeiras\n",
        "\n",
        "print(30 > 2 and 10 > 2) #True\n",
        "print(30 > 2 and 2 > 10) #False"
      ],
      "metadata": {
        "colab": {
          "base_uri": "https://localhost:8080/"
        },
        "id": "sNMV7SP4Ft0e",
        "outputId": "5e8f0e05-fa5c-4b2f-da2c-bc97b5295333"
      },
      "execution_count": null,
      "outputs": [
        {
          "output_type": "stream",
          "name": "stdout",
          "text": [
            "True\n",
            "False\n"
          ]
        }
      ]
    },
    {
      "cell_type": "code",
      "source": [
        "# Or\n",
        "# É verdadeiro se pelo menos uma das condições for verdadeira\n",
        "\n",
        "print(30 > 2 or 10 > 2) #True\n",
        "print(30 > 2 or 2 > 10) #True\n",
        "print(2 > 30 or 2 > 10) #False"
      ],
      "metadata": {
        "colab": {
          "base_uri": "https://localhost:8080/"
        },
        "id": "Okd8B6rFGXoT",
        "outputId": "c9188222-0b5e-4a76-aa6c-6a9b78b8c5a8"
      },
      "execution_count": null,
      "outputs": [
        {
          "output_type": "stream",
          "name": "stdout",
          "text": [
            "True\n",
            "True\n",
            "False\n"
          ]
        }
      ]
    },
    {
      "cell_type": "code",
      "source": [
        "# Not\n",
        "# Converte o resultado para o contrário\n",
        "\n",
        "not 10 > 2 #True, so converted to False"
      ],
      "metadata": {
        "colab": {
          "base_uri": "https://localhost:8080/"
        },
        "id": "qqo-PIbMGxgM",
        "outputId": "9a8f42a4-c709-4a06-f602-4080ab06bfd2"
      },
      "execution_count": null,
      "outputs": [
        {
          "output_type": "execute_result",
          "data": {
            "text/plain": [
              "False"
            ]
          },
          "metadata": {},
          "execution_count": 19
        }
      ]
    },
    {
      "cell_type": "markdown",
      "source": [
        "### Variáveis\n",
        "\n",
        "#### Estão alocados em espaços de memória e armazenam um valor."
      ],
      "metadata": {
        "id": "d1_y25jvHEyA"
      }
    },
    {
      "cell_type": "code",
      "source": [
        "n1 = 10    # Não precisamos definir o tipo de variável. O Python é uma linguagem de alto nível, então\n",
        "n2 = 30    # define sozinho qual o tipo de variável que vai ser usada a partir da declaração.\n",
        "\n",
        "soma = n1 + n2\n",
        "print(soma)"
      ],
      "metadata": {
        "colab": {
          "base_uri": "https://localhost:8080/"
        },
        "id": "GKIdsZsBHTMr",
        "outputId": "caaaa1e6-af8f-42e9-9a87-3a82dbe856cf"
      },
      "execution_count": null,
      "outputs": [
        {
          "output_type": "stream",
          "name": "stdout",
          "text": [
            "40\n"
          ]
        }
      ]
    },
    {
      "cell_type": "markdown",
      "source": [
        "### Interação com o usuário\n",
        "\n",
        "#### Print, Concatenação, Type, Input"
      ],
      "metadata": {
        "id": "0ba5IT9yKn_4"
      }
    },
    {
      "cell_type": "code",
      "source": [
        "# Print\n",
        "\n",
        "idade = 19\n",
        "nome = \"Marcela\"\n",
        "\n",
        "print(\"Seu nome é\", nome,\"e sua idade é\", idade) # A concatenação é feita por vírgulas."
      ],
      "metadata": {
        "colab": {
          "base_uri": "https://localhost:8080/"
        },
        "id": "UBYwdaCFKnX3",
        "outputId": "8bc53550-5d66-403d-fa90-22c3d58a7d0a"
      },
      "execution_count": null,
      "outputs": [
        {
          "output_type": "stream",
          "name": "stdout",
          "text": [
            "Seu nome é Marcela e sua idade é 19\n"
          ]
        }
      ]
    },
    {
      "cell_type": "code",
      "source": [
        "# Concatenação com operações\n",
        "\n",
        "x = 10\n",
        "\n",
        "print(\"O valor de X é\", x, \"e o dobro dele é\", x * 2)"
      ],
      "metadata": {
        "colab": {
          "base_uri": "https://localhost:8080/"
        },
        "id": "-UfNydK6LssR",
        "outputId": "12d9275a-fc0d-4a4d-9990-721a765dc3ad"
      },
      "execution_count": null,
      "outputs": [
        {
          "output_type": "stream",
          "name": "stdout",
          "text": [
            "O valor de X é 10 e o dobro dele é 20\n"
          ]
        }
      ]
    },
    {
      "cell_type": "code",
      "source": [
        "x = 10\n",
        "type(x) # Print do tipo de variável"
      ],
      "metadata": {
        "colab": {
          "base_uri": "https://localhost:8080/"
        },
        "id": "KXV3y8z0MFs5",
        "outputId": "ecf6c21c-b07c-40db-acf2-fedc4b88e9b5"
      },
      "execution_count": null,
      "outputs": [
        {
          "output_type": "execute_result",
          "data": {
            "text/plain": [
              "int"
            ]
          },
          "metadata": {},
          "execution_count": 29
        }
      ]
    },
    {
      "cell_type": "code",
      "source": [
        "# Convertendo tipos de variáveis\n",
        "\n",
        "x = \"100\"\n",
        "type(x)\n",
        "\n",
        "convert_x = int(x) # Conversão\n",
        "\n",
        "print(type(x))\n",
        "print (type(convert_x))"
      ],
      "metadata": {
        "colab": {
          "base_uri": "https://localhost:8080/"
        },
        "id": "ZGS4RLA8MhO1",
        "outputId": "e53c3edb-6f39-4b8f-c94c-16cb241f5c18"
      },
      "execution_count": null,
      "outputs": [
        {
          "output_type": "stream",
          "name": "stdout",
          "text": [
            "<class 'str'>\n",
            "<class 'int'>\n"
          ]
        }
      ]
    },
    {
      "cell_type": "code",
      "source": [
        "# Receber dados do usuário\n",
        "# O dado sempre é armazenado como um texto\n",
        "\n",
        "nome = input(\"Digite o nome do usuário: \")\n",
        "print(nome)"
      ],
      "metadata": {
        "colab": {
          "base_uri": "https://localhost:8080/"
        },
        "id": "3iEbdM3bNSLu",
        "outputId": "d1dc0942-bc8a-4083-a712-98292d989e64"
      },
      "execution_count": null,
      "outputs": [
        {
          "output_type": "stream",
          "name": "stdout",
          "text": [
            "Digite o nome do usuário: Agnes\n",
            "Agnes\n"
          ]
        }
      ]
    },
    {
      "cell_type": "code",
      "source": [
        "#Convertendo input para realizar operações\n",
        "\n",
        "valor_produto = input(\"Insira o valor do produto: \")\n",
        "\n",
        "valor_p = int(valor_produto) # COnversão do input recebido do usuário para INT\n",
        "desconto = valor_p - 5\n",
        "print (\"O valor com desconto é\", desconto)\n"
      ],
      "metadata": {
        "colab": {
          "base_uri": "https://localhost:8080/"
        },
        "id": "0osAgx3bN0zX",
        "outputId": "07729ba5-64a8-4fd0-fe56-4004cb67bd16"
      },
      "execution_count": null,
      "outputs": [
        {
          "output_type": "stream",
          "name": "stdout",
          "text": [
            "Insira o valor do produto: 100\n",
            "O valor com desconto é 95\n"
          ]
        }
      ]
    },
    {
      "cell_type": "markdown",
      "source": [
        "### Condicional"
      ],
      "metadata": {
        "id": "mSnCe_gUO6Ce"
      }
    },
    {
      "cell_type": "code",
      "source": [
        "# IF\n",
        "\n",
        "if 5 < 10:\n",
        "  print(\"Verdade\")"
      ],
      "metadata": {
        "id": "w-J9InlMPAQx",
        "colab": {
          "base_uri": "https://localhost:8080/"
        },
        "outputId": "ddf8f833-6b46-4945-8df5-8bf183ce5512"
      },
      "execution_count": null,
      "outputs": [
        {
          "output_type": "stream",
          "name": "stdout",
          "text": [
            "Verdade\n"
          ]
        }
      ]
    },
    {
      "cell_type": "code",
      "source": [
        "# IF/ELSE\n",
        "\n",
        "if 5 < 10:\n",
        "  print(\"Verdade\")\n",
        "else:\n",
        "  print(\"Falso\")"
      ],
      "metadata": {
        "colab": {
          "base_uri": "https://localhost:8080/"
        },
        "id": "ZPu05yH6RJSG",
        "outputId": "e2e8ff8a-0c93-4395-c974-c55d8c2f650d"
      },
      "execution_count": null,
      "outputs": [
        {
          "output_type": "stream",
          "name": "stdout",
          "text": [
            "Verdade\n"
          ]
        }
      ]
    },
    {
      "cell_type": "code",
      "source": [
        "# if/elif/else\n",
        "\n",
        "n1 = input('Digite o numéro 1: ')\n",
        "n2 = input('Digite o numéro 2: ')\n",
        "\n",
        "if n1 > n2:\n",
        "  print(\"O número 1 é maior\")\n",
        "elif n2 > n1:\n",
        "  print(\"O número 2 é maior\")\n",
        "else:\n",
        "  print(\"Nenhum dos números é maior\")"
      ],
      "metadata": {
        "colab": {
          "base_uri": "https://localhost:8080/"
        },
        "id": "gL4a9w4WRKs6",
        "outputId": "f5d2b141-875b-430e-9910-86fa4ddc9528"
      },
      "execution_count": null,
      "outputs": [
        {
          "output_type": "stream",
          "name": "stdout",
          "text": [
            "Digite o numéro 1: 1\n",
            "Digite o numéro 2: 1\n",
            "Nenhum dos números é maior\n"
          ]
        }
      ]
    },
    {
      "cell_type": "code",
      "source": [
        "# Condições com operadores lógicos\n",
        "\n",
        "n1 = 10\n",
        "n2 = 15\n",
        "n3 = 5\n",
        "\n",
        "if (n1 > n2 and n1 > n3):\n",
        "  print(\"O número 1 é o maior\")\n",
        "else:\n",
        "  print(\"O número 1 não é o maior\")"
      ],
      "metadata": {
        "id": "doRaniMcSJaW"
      },
      "execution_count": null,
      "outputs": []
    },
    {
      "cell_type": "markdown",
      "source": [
        "### Listas"
      ],
      "metadata": {
        "id": "8md2lq3w3jQp"
      }
    },
    {
      "cell_type": "code",
      "source": [
        "# Formada por colchetes\n",
        "\n",
        "[1,2,3]"
      ],
      "metadata": {
        "colab": {
          "base_uri": "https://localhost:8080/"
        },
        "id": "PfNS5Ura3o1F",
        "outputId": "9b79ebf6-eb88-4891-ef4b-7236cd469252"
      },
      "execution_count": null,
      "outputs": [
        {
          "output_type": "execute_result",
          "data": {
            "text/plain": [
              "[1, 2, 3]"
            ]
          },
          "metadata": {},
          "execution_count": 8
        }
      ]
    },
    {
      "cell_type": "code",
      "source": [
        "# Podemos colocar qualquer tipo de conteúdo\n",
        "\n",
        "lista = [1, \"Número\", 5.7]"
      ],
      "metadata": {
        "id": "U2RUih0G4Ncf"
      },
      "execution_count": null,
      "outputs": []
    },
    {
      "cell_type": "code",
      "source": [
        "# Os valores da lista podem ser modificados\n",
        "\n",
        "lista.append(\"Marcia\")\n",
        "\n",
        "print(lista)\n",
        "print(lista[4])"
      ],
      "metadata": {
        "colab": {
          "base_uri": "https://localhost:8080/"
        },
        "id": "BH5ASz0w4W6j",
        "outputId": "0ebec53a-28c3-4487-8aec-a32b190edf1e"
      },
      "execution_count": null,
      "outputs": [
        {
          "output_type": "stream",
          "name": "stdout",
          "text": [
            "[1, 'Número', 5.7, 'Marcia', 'Marcia', 'Marcia']\n",
            "Marcia\n"
          ]
        }
      ]
    },
    {
      "cell_type": "markdown",
      "source": [
        "###Tupla"
      ],
      "metadata": {
        "id": "a-y4I_Ev4rUc"
      }
    },
    {
      "cell_type": "code",
      "source": [
        "# Formada por parênteses\n",
        "# Não pode ser modificada\n",
        "\n",
        "(9, \"Olá\")"
      ],
      "metadata": {
        "colab": {
          "base_uri": "https://localhost:8080/"
        },
        "id": "uE-LGzf05daj",
        "outputId": "c69922c3-f3f0-4ae0-f7b3-9a19c245a2c9"
      },
      "execution_count": null,
      "outputs": [
        {
          "output_type": "execute_result",
          "data": {
            "text/plain": [
              "(9, 'Olá')"
            ]
          },
          "metadata": {},
          "execution_count": 19
        }
      ]
    },
    {
      "cell_type": "markdown",
      "source": [
        "###Dicionário"
      ],
      "metadata": {
        "id": "3zITrl0q5v4m"
      }
    },
    {
      "cell_type": "code",
      "source": [
        "# Formado por chaves\n",
        "# Podemos utilizar qualquer valor do índice\n",
        "# Para cada valor, temos uma chave associada\n",
        "\n",
        "dicionario = {'nome':'Agnes','cidade':'Campinas'}\n",
        "print(dicionario)"
      ],
      "metadata": {
        "colab": {
          "base_uri": "https://localhost:8080/"
        },
        "id": "2dDu_Pv55yLf",
        "outputId": "8a05d426-04f7-4327-d937-cbdd5f3d38c8"
      },
      "execution_count": null,
      "outputs": [
        {
          "output_type": "stream",
          "name": "stdout",
          "text": [
            "{'nome': 'Agnes', 'cidade': 'Campinas'}\n"
          ]
        }
      ]
    },
    {
      "cell_type": "code",
      "source": [
        "# Usamos o nome da chave para puxar o dado\n",
        "\n",
        "print(dicionario['nome'])"
      ],
      "metadata": {
        "colab": {
          "base_uri": "https://localhost:8080/"
        },
        "id": "aTzpcOmm5zqB",
        "outputId": "429d61ad-48ad-43e4-aa18-0d6da76c7482"
      },
      "execution_count": null,
      "outputs": [
        {
          "output_type": "stream",
          "name": "stdout",
          "text": [
            "Agnes\n"
          ]
        }
      ]
    },
    {
      "cell_type": "code",
      "source": [
        "# Podemos modificar\n",
        "\n",
        "dicionario['ultimo_nome'] = \"Prado\""
      ],
      "metadata": {
        "id": "gSy7Do3h7Wo6"
      },
      "execution_count": null,
      "outputs": []
    },
    {
      "cell_type": "code",
      "source": [
        "print(dicionario)"
      ],
      "metadata": {
        "colab": {
          "base_uri": "https://localhost:8080/"
        },
        "id": "6Yqd0knB7rYF",
        "outputId": "5949bc96-fbef-4b5a-e238-be6468d4033a"
      },
      "execution_count": null,
      "outputs": [
        {
          "output_type": "stream",
          "name": "stdout",
          "text": [
            "{'nome': 'Agnes', 'cidade': 'Campinas', 'ultimo_nome': 'Prado'}\n"
          ]
        }
      ]
    },
    {
      "cell_type": "markdown",
      "source": [
        "### Estruturas de repetição"
      ],
      "metadata": {
        "id": "pQrGdXm68Ous"
      }
    },
    {
      "cell_type": "code",
      "source": [
        "# For range\n",
        "\n",
        "for contador in range(10):\n",
        "  print(contador)"
      ],
      "metadata": {
        "colab": {
          "base_uri": "https://localhost:8080/"
        },
        "id": "MJ5sjJ6S8Sjk",
        "outputId": "677df933-53a4-49f7-9838-2f4f66c32f8a"
      },
      "execution_count": null,
      "outputs": [
        {
          "output_type": "stream",
          "name": "stdout",
          "text": [
            "0\n",
            "1\n",
            "2\n",
            "3\n",
            "4\n",
            "5\n",
            "6\n",
            "7\n",
            "8\n",
            "9\n"
          ]
        }
      ]
    },
    {
      "cell_type": "code",
      "source": [
        "# For range + break\n",
        "\n",
        "for contador in range(10):\n",
        "  print(contador)\n",
        "  if contador == 2:\n",
        "    break"
      ],
      "metadata": {
        "colab": {
          "base_uri": "https://localhost:8080/"
        },
        "id": "vet_A7L18qXO",
        "outputId": "f3b0a265-faed-4bf5-a14e-576291047111"
      },
      "execution_count": null,
      "outputs": [
        {
          "output_type": "stream",
          "name": "stdout",
          "text": [
            "0\n",
            "1\n",
            "2\n"
          ]
        }
      ]
    },
    {
      "cell_type": "code",
      "source": [
        "lista = [\"Teste1\", \"Teste2\"]\n",
        "\n",
        "#For simples\n",
        "for varrer in lista:\n",
        "  print(varrer)"
      ],
      "metadata": {
        "colab": {
          "base_uri": "https://localhost:8080/"
        },
        "id": "efgJhfuJ84ad",
        "outputId": "276ef27a-471e-478e-e843-b41e20b9de42"
      },
      "execution_count": null,
      "outputs": [
        {
          "output_type": "stream",
          "name": "stdout",
          "text": [
            "Teste1\n",
            "Teste2\n"
          ]
        }
      ]
    },
    {
      "cell_type": "code",
      "source": [
        "# For enumerate\n",
        "\n",
        "for i, varrer in enumerate(lista):\n",
        "  print(i, varrer)"
      ],
      "metadata": {
        "colab": {
          "base_uri": "https://localhost:8080/"
        },
        "id": "Y53lIzoH9Peq",
        "outputId": "63e25c23-48e6-4b9c-c550-62156d841a3c"
      },
      "execution_count": null,
      "outputs": [
        {
          "output_type": "stream",
          "name": "stdout",
          "text": [
            "0 Teste1\n",
            "1 Teste2\n"
          ]
        }
      ]
    },
    {
      "cell_type": "code",
      "source": [
        "# Operadores Compostos\n",
        "\n",
        "lista2 = [2, 3, 4]\n",
        "\n",
        "for valor in lista2:\n",
        "  valor += 1\n",
        "  print(valor)"
      ],
      "metadata": {
        "colab": {
          "base_uri": "https://localhost:8080/"
        },
        "id": "klTs73EY9pQt",
        "outputId": "ee5941f0-2597-4d57-f125-22d416878e8d"
      },
      "execution_count": null,
      "outputs": [
        {
          "output_type": "stream",
          "name": "stdout",
          "text": [
            "3\n",
            "4\n",
            "5\n"
          ]
        }
      ]
    },
    {
      "cell_type": "code",
      "source": [
        "# While\n",
        "\n",
        "var = 1\n",
        "\n",
        "while (var < 6):\n",
        "  var += 2\n",
        "  print(var)"
      ],
      "metadata": {
        "colab": {
          "base_uri": "https://localhost:8080/"
        },
        "id": "ctAdRd3t-M8U",
        "outputId": "5c899595-f15a-4b17-ce4d-54bf0b20e750"
      },
      "execution_count": null,
      "outputs": [
        {
          "output_type": "stream",
          "name": "stdout",
          "text": [
            "3\n",
            "5\n",
            "7\n"
          ]
        }
      ]
    },
    {
      "cell_type": "code",
      "source": [
        "var = 5\n",
        "\n",
        "while (var < 6):\n",
        "  var += 2\n",
        "else:\n",
        "  print(var)"
      ],
      "metadata": {
        "colab": {
          "base_uri": "https://localhost:8080/"
        },
        "id": "2VaDhWna-lBx",
        "outputId": "7643e4da-c307-4387-e8ba-1302287cf9ff"
      },
      "execution_count": null,
      "outputs": [
        {
          "output_type": "stream",
          "name": "stdout",
          "text": [
            "7\n"
          ]
        }
      ]
    }
  ]
}
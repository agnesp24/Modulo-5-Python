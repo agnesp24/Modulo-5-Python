{
  "cells": [
    {
      "cell_type": "markdown",
      "source": [
        "## Calculadora\n",
        "### Operações aritméticas e relacionais."
      ],
      "metadata": {
        "id": "Br5gr2Mgn6S_"
      }
    },
    {
      "cell_type": "code",
      "execution_count": null,
      "metadata": {
        "colab": {
          "base_uri": "https://localhost:8080/",
          "height": 564
        },
        "id": "B-jUMa7FEaB6",
        "outputId": "d5d587d0-d85c-43b4-c912-eae7cd497691"
      },
      "outputs": [
        {
          "output_type": "stream",
          "name": "stdout",
          "text": [
            "Qual o seu nome: Agnes\n",
            "Bem vindo(a) a calculadora, Agnes ! Você pode escolher dois valores para realizar operações artiméticas ou relacionais. Lembre-se de escolher um valor maior ou igual a 1.\n",
            "\n",
            "Digite o primeiro valor (maior que 0): 5\n",
            "Digite o segundo valor (maior que 0): 5\n",
            "\n",
            "O valor da soma desses números é: 10\n",
            "O valor da subtração desses números é: 0\n",
            "O valor da divisão desses números é: 1.0\n",
            "O valor da multiplicação desses números é: 25\n",
            "\n",
            "Os valores inseridos 5 e 5 são iguais.\n"
          ]
        },
        {
          "output_type": "error",
          "ename": "KeyboardInterrupt",
          "evalue": "Interrupted by user",
          "traceback": [
            "\u001b[0;31m---------------------------------------------------------------------------\u001b[0m",
            "\u001b[0;31mKeyboardInterrupt\u001b[0m                         Traceback (most recent call last)",
            "\u001b[0;32m<ipython-input-11-6b8da1b05fb1>\u001b[0m in \u001b[0;36m<cell line: 7>\u001b[0;34m()\u001b[0m\n\u001b[1;32m     29\u001b[0m         \u001b[0mprint\u001b[0m\u001b[0;34m(\u001b[0m\u001b[0;34m\"\\nOs valores inseridos\"\u001b[0m\u001b[0;34m,\u001b[0m\u001b[0mvalor1\u001b[0m\u001b[0;34m,\u001b[0m\u001b[0;34m\"e\"\u001b[0m\u001b[0;34m,\u001b[0m\u001b[0mvalor2\u001b[0m\u001b[0;34m,\u001b[0m \u001b[0;34m\"são iguais.\"\u001b[0m\u001b[0;34m)\u001b[0m\u001b[0;34m\u001b[0m\u001b[0;34m\u001b[0m\u001b[0m\n\u001b[1;32m     30\u001b[0m \u001b[0;34m\u001b[0m\u001b[0m\n\u001b[0;32m---> 31\u001b[0;31m       \u001b[0msair\u001b[0m \u001b[0;34m=\u001b[0m \u001b[0mint\u001b[0m\u001b[0;34m(\u001b[0m\u001b[0minput\u001b[0m\u001b[0;34m(\u001b[0m\u001b[0;34m\"\\nSe deseja sair da calculadora, digite 0.\\nSe quiser realizar novos cálculos, digite outro número: \"\u001b[0m\u001b[0;34m)\u001b[0m\u001b[0;34m)\u001b[0m\u001b[0;34m\u001b[0m\u001b[0;34m\u001b[0m\u001b[0m\n\u001b[0m\u001b[1;32m     32\u001b[0m       \u001b[0;32mif\u001b[0m \u001b[0msair\u001b[0m \u001b[0;34m==\u001b[0m \u001b[0;36m0\u001b[0m\u001b[0;34m:\u001b[0m\u001b[0;34m\u001b[0m\u001b[0;34m\u001b[0m\u001b[0m\n\u001b[1;32m     33\u001b[0m         \u001b[0;32mbreak\u001b[0m\u001b[0;34m\u001b[0m\u001b[0;34m\u001b[0m\u001b[0m\n",
            "\u001b[0;32m/usr/local/lib/python3.10/dist-packages/ipykernel/kernelbase.py\u001b[0m in \u001b[0;36mraw_input\u001b[0;34m(self, prompt)\u001b[0m\n\u001b[1;32m    849\u001b[0m                 \u001b[0;34m\"raw_input was called, but this frontend does not support input requests.\"\u001b[0m\u001b[0;34m\u001b[0m\u001b[0;34m\u001b[0m\u001b[0m\n\u001b[1;32m    850\u001b[0m             )\n\u001b[0;32m--> 851\u001b[0;31m         return self._input_request(str(prompt),\n\u001b[0m\u001b[1;32m    852\u001b[0m             \u001b[0mself\u001b[0m\u001b[0;34m.\u001b[0m\u001b[0m_parent_ident\u001b[0m\u001b[0;34m,\u001b[0m\u001b[0;34m\u001b[0m\u001b[0;34m\u001b[0m\u001b[0m\n\u001b[1;32m    853\u001b[0m             \u001b[0mself\u001b[0m\u001b[0;34m.\u001b[0m\u001b[0m_parent_header\u001b[0m\u001b[0;34m,\u001b[0m\u001b[0;34m\u001b[0m\u001b[0;34m\u001b[0m\u001b[0m\n",
            "\u001b[0;32m/usr/local/lib/python3.10/dist-packages/ipykernel/kernelbase.py\u001b[0m in \u001b[0;36m_input_request\u001b[0;34m(self, prompt, ident, parent, password)\u001b[0m\n\u001b[1;32m    893\u001b[0m             \u001b[0;32mexcept\u001b[0m \u001b[0mKeyboardInterrupt\u001b[0m\u001b[0;34m:\u001b[0m\u001b[0;34m\u001b[0m\u001b[0;34m\u001b[0m\u001b[0m\n\u001b[1;32m    894\u001b[0m                 \u001b[0;31m# re-raise KeyboardInterrupt, to truncate traceback\u001b[0m\u001b[0;34m\u001b[0m\u001b[0;34m\u001b[0m\u001b[0m\n\u001b[0;32m--> 895\u001b[0;31m                 \u001b[0;32mraise\u001b[0m \u001b[0mKeyboardInterrupt\u001b[0m\u001b[0;34m(\u001b[0m\u001b[0;34m\"Interrupted by user\"\u001b[0m\u001b[0;34m)\u001b[0m \u001b[0;32mfrom\u001b[0m \u001b[0;32mNone\u001b[0m\u001b[0;34m\u001b[0m\u001b[0;34m\u001b[0m\u001b[0m\n\u001b[0m\u001b[1;32m    896\u001b[0m             \u001b[0;32mexcept\u001b[0m \u001b[0mException\u001b[0m \u001b[0;32mas\u001b[0m \u001b[0me\u001b[0m\u001b[0;34m:\u001b[0m\u001b[0;34m\u001b[0m\u001b[0;34m\u001b[0m\u001b[0m\n\u001b[1;32m    897\u001b[0m                 \u001b[0mself\u001b[0m\u001b[0;34m.\u001b[0m\u001b[0mlog\u001b[0m\u001b[0;34m.\u001b[0m\u001b[0mwarning\u001b[0m\u001b[0;34m(\u001b[0m\u001b[0;34m\"Invalid Message:\"\u001b[0m\u001b[0;34m,\u001b[0m \u001b[0mexc_info\u001b[0m\u001b[0;34m=\u001b[0m\u001b[0;32mTrue\u001b[0m\u001b[0;34m)\u001b[0m\u001b[0;34m\u001b[0m\u001b[0;34m\u001b[0m\u001b[0m\n",
            "\u001b[0;31mKeyboardInterrupt\u001b[0m: Interrupted by user"
          ]
        }
      ],
      "source": [
        "# Receber o nome do usuário\n",
        "nome = input(\"Qual o seu nome: \")\n",
        "print(\"Bem vindo(a) a calculadora,\", nome,\"! Você pode escolher dois valores para realizar operações artiméticas ou relacionais. Lembre-se de escolher valores maiores ou iguais a 1.\")\n",
        "\n",
        "# Estrutura de repetição\n",
        "oper = 1\n",
        "while (oper <= 5):\n",
        "\n",
        "    oper += 1\n",
        "\n",
        "    valor1 = int(input(\"\\nDigite o primeiro valor (maior que 0): \"))\n",
        "    valor2 = int(input(\"Digite o segundo valor (maior que 0): \"))\n",
        "\n",
        "    if (valor1 and valor2 > 0): #Estrutura de condição para checagem de valores inseridos\n",
        "\n",
        "      soma = valor1+valor2\n",
        "      print(\"\\nO valor da soma desses números é:\", soma)\n",
        "      sub = valor1-valor2\n",
        "      print(\"O valor da subtração desses números é:\", sub)\n",
        "      div = valor1/valor2\n",
        "      print(\"O valor da divisão desses números é:\", div)\n",
        "      multi = valor1*valor2\n",
        "      print(\"O valor da multiplicação desses números é:\", multi)\n",
        "\n",
        "      if (valor1 > valor2):\n",
        "        print(\"\\nO número\",valor1,\"é maior que\", valor2)\n",
        "      elif (valor1 < valor2):\n",
        "        print(valor2, \"é maior que \", valor1)\n",
        "      else:\n",
        "        print(\"\\nOs valores inseridos\",valor1,\"e\",valor2, \"são iguais.\")\n",
        "\n",
        "      # Opção de saída da calculadora antes do fim da repetição\n",
        "      sair = int(input(\"\\nSe deseja sair da calculadora, digite 0.\\nSe quiser realizar novos cálculos, digite outro número: \"))\n",
        "      if sair == 0:\n",
        "        break\n",
        "    else:\n",
        "      print(\"Um ou ambos dos valores escolhidos não são maiores que 0.\")\n",
        "\n",
        "else:\n",
        "  print(\"\\nLimite de cálculos alcançado. Obrigado por utilizar nossa calculadora!\")"
      ]
    }
  ],
  "metadata": {
    "colab": {
      "provenance": [],
      "toc_visible": true
    },
    "kernelspec": {
      "display_name": "Python 3",
      "name": "python3"
    },
    "language_info": {
      "name": "python"
    }
  },
  "nbformat": 4,
  "nbformat_minor": 0
}